{
 "cells": [
  {
   "cell_type": "markdown",
   "metadata": {},
   "source": [
    "# Algoritmo backpropagation em Python\n",
    "\n",
    "Implemente o algoritmo backpropagation em linguagem python e apresente um notebook correspondente com os comentários. Por fim, mostre o gráfico de erro em relação às épocas para o conjunto de dados:\n",
    "\n",
    "**Entrada:**\n",
    "<UL>\n",
    "<LI>I1 = 0.05\n",
    "<LI>I2 = 0.1\n",
    "</UL> <br>\n",
    "\n",
    "**Saída:**\n",
    "<UL>\n",
    "<LI>O1: 0.01\n",
    "<LI>O2: 0.99\n",
    "</UL>"
   ]
  },
  {
   "cell_type": "markdown",
   "metadata": {},
   "source": [
    "## 1 - Pacotes ##\n",
    "\n",
    "- [numpy](http://www.numpy.org)\n",
    "- [matplotlib](http://matplotlib.org)"
   ]
  },
  {
   "cell_type": "code",
   "execution_count": 1,
   "metadata": {
    "collapsed": true
   },
   "outputs": [],
   "source": [
    "import numpy as np\n",
    "import matplotlib.pyplot as plt\n",
    "\n",
    "%matplotlib inline\n",
    "\n",
    "np.random.seed(1) # configurar para ser os mesmos números aleatórios"
   ]
  },
  {
   "cell_type": "markdown",
   "metadata": {},
   "source": [
    "## 2 - Dataset ##\n",
    "\n",
    "Setar variáveis de entrada (X) e saída desejada (Y).\n",
    "\n",
    "<table style=\"width:30%\">\n",
    "  <tr>\n",
    "    <td>**entradas**</td>\n",
    "    <td> x1 = 0,05 </td> \n",
    "    <td> x2 = 0,1 </td> \n",
    "  </tr>\n",
    "  \n",
    "    <tr>\n",
    "    <td>**saida desejada**</td>\n",
    "    <td> y1 = 0,01 </td> \n",
    "    <td> y2 = 0,99 </td> \n",
    "  </tr>\n",
    "  \n",
    "</table>"
   ]
  },
  {
   "cell_type": "code",
   "execution_count": 2,
   "metadata": {},
   "outputs": [
    {
     "data": {
      "text/plain": [
       "array([ 0.05,  0.1 ])"
      ]
     },
     "execution_count": 2,
     "metadata": {},
     "output_type": "execute_result"
    }
   ],
   "source": [
    "X = np.array([0.05, 0.1])\n",
    "X"
   ]
  },
  {
   "cell_type": "code",
   "execution_count": 3,
   "metadata": {},
   "outputs": [
    {
     "data": {
      "text/plain": [
       "array([ 0.01,  0.99])"
      ]
     },
     "execution_count": 3,
     "metadata": {},
     "output_type": "execute_result"
    }
   ],
   "source": [
    "Y = np.array([0.01, 0.99])\n",
    "Y"
   ]
  },
  {
   "cell_type": "markdown",
   "metadata": {},
   "source": [
    "## 3 - Rede Neural \n",
    "\n",
    "\n",
    "##### Precisamos treinar a rede neural para fornecer as saidas desejadas\n",
    "\n",
    "<table style=\"width:30%\">\n",
    "  <tr>\n",
    "    <td>**entradas**</td>\n",
    "    <td> x1 = 0,05 </td> \n",
    "    <td> x2 = 0,1 </td> \n",
    "  </tr>\n",
    "  \n",
    "    <tr>\n",
    "    <td>**saida desejada**</td>\n",
    "    <td> y1 = 0,01 </td> \n",
    "    <td> y2 = 0,99 </td> \n",
    "  </tr>\n",
    "  \n",
    "</table>\n",
    "\n",
    "### Elementos desta rede:\n",
    "<UL>\n",
    "<LI>Entradas: x1; x2</LI>\n",
    "<LI>Saidas: y1; y2</LI>\n",
    "<LI>Pesos sinápticos: w1;w2; : : : ;w8 (Precisamos determinar por meio do treinamento)</LI>\n",
    "<LI>Funções de ativações de cada neurônio (escolha experimental)</LI>\n",
    "</UL>"
   ]
  },
  {
   "cell_type": "markdown",
   "metadata": {},
   "source": [
    "### 3.1 - Configurar Pesos inicias ####\n",
    "\n",
    "<img src=\"rede.png\" style=\"width:600px;height:400px;\">\n",
    "\n",
    "<table align=\"left\" style=\"width:60%\">\n",
    "  <tr>\n",
    "    <th>**pesos**</th>\n",
    "  </tr>\n",
    "  <tr>\n",
    "    <td> w1 = 0,15 </td>\n",
    "  </tr>\n",
    "  <tr>\n",
    "    <td> w2 = 0,20 </td>\n",
    "  </tr>\n",
    "  <tr>\n",
    "    <td> w3 = 0,25 </td>\n",
    "  </tr>\n",
    "  <tr>\n",
    "    <td> w4 = 0,30 </td>\n",
    "  </tr>\n",
    "  <tr>\n",
    "    <td> w5 = 0,40 </td>\n",
    "  </tr>\n",
    "  <tr>\n",
    "    <td> w6 = 0,45 </td>\n",
    "  </tr>\n",
    "  <tr>\n",
    "    <td> w7 = 0,50 </td>\n",
    "  </tr>\n",
    "  <tr>\n",
    "    <td> w8 = 0,55 </td>\n",
    "  </tr>\n",
    "</table>\n",
    "\n",
    "\n",
    "<table align=\"left\" style=\"width:60%\">\n",
    "  <tr>\n",
    "    <th>**bias**</th> \n",
    "  </tr>\n",
    "  <tr>\n",
    "    <td> b1h1 = 0,35 </td>\n",
    "  </tr>\n",
    "  <tr>\n",
    "    <td> b1h2 = 0,35 </td>\n",
    "  </tr>\n",
    "  <tr>\n",
    "    <td> b2o2 = 0,60 </td>\n",
    "  </tr>\n",
    "  <tr>\n",
    "    <td> b2o2 = 0,60 </td>\n",
    "  </tr>\n",
    "</table>"
   ]
  },
  {
   "cell_type": "code",
   "execution_count": 4,
   "metadata": {},
   "outputs": [
    {
     "data": {
      "text/plain": [
       "array([ 0.15,  0.2 ,  0.25,  0.3 ,  0.4 ,  0.45,  0.5 ,  0.55])"
      ]
     },
     "execution_count": 4,
     "metadata": {},
     "output_type": "execute_result"
    }
   ],
   "source": [
    "# Pesos iniciais\n",
    "w = np.array([0.15, #w1\n",
    "              0.20, #w2\n",
    "              0.25, #w3\n",
    "              0.30, #w4\n",
    "              0.40, #w5\n",
    "              0.45, #w6\n",
    "              0.50, #w7\n",
    "              0.55  #w8\n",
    "             ])\n",
    "w"
   ]
  },
  {
   "cell_type": "code",
   "execution_count": 5,
   "metadata": {},
   "outputs": [
    {
     "data": {
      "text/plain": [
       "array([ 0.35,  0.35,  0.6 ,  0.6 ])"
      ]
     },
     "execution_count": 5,
     "metadata": {},
     "output_type": "execute_result"
    }
   ],
   "source": [
    "b = np.array([0.35, #b1h1\n",
    "              0.35, #b1h2\n",
    "              0.60, #b2o1\n",
    "              0.60  #b2o2\n",
    "             ])\n",
    "b"
   ]
  },
  {
   "cell_type": "markdown",
   "metadata": {},
   "source": [
    "### 3.2 - Propagação ####\n",
    "\n",
    "Implementação  `propagacao()`."
   ]
  },
  {
   "cell_type": "code",
   "execution_count": 6,
   "metadata": {
    "collapsed": true
   },
   "outputs": [],
   "source": [
    "def propagacao(X, w, b):\n",
    "    \"\"\"\n",
    "    Parametros:\n",
    "    X -- entrada de dados\n",
    "    w -- pesos W\n",
    "    b -- bias\n",
    "    \n",
    "    Retorna:\n",
    "    gh1 -- função de ativação sigmoid de h1\n",
    "    gh2 -- função de ativação sigmoid de h2\n",
    "    go1 -- função de ativação sigmoid de o1\n",
    "    go2 -- função de ativação sigmoid de o2\n",
    "    \"\"\"\n",
    "    \n",
    "    # Cálculo da primeira camada\n",
    "    uh1 = X[0]*w[0] + X[1]*w[1] + b[0]*1.0  # uh1 = x1 * w1 + x2 * w2 + b1h1 * 1\n",
    "    uh2 = X[0]*w[2] + X[1]*w[3] + b[1]*1.0  # uh2 = x1 * w3 + x2 * w4 + b1h2 * 1\n",
    "    gh1 = 1.0 / (1.0 + np.exp(-uh1))        # gh1 = sigmoid de uh1\n",
    "    gh2 = 1.0 / (1.0 + np.exp(-uh2))        # gh2 = sigmoid de uh2\n",
    "    \n",
    "    # Cálculo da segunda camada\n",
    "    uo1 = gh1*w[4] + gh2*w[5] + b[2]*1.0    # uo1 = gh1 * w5 + gh2 * w6 + b2o1 * 1\n",
    "    uo2 = gh1*w[6] + gh2*w[7] + b[3]*1.0    # uo2 = gh1 * w7 + gh2 * w8 + b2o2 * 1\n",
    "    go1 = 1.0 / (1.0 + np.exp(-uo1))        # go1 = sigmoid de uo1\n",
    "    go2 = 1.0 / (1.0 + np.exp(-uo2))        # go2 = sigmoid de uo2\n",
    "    \n",
    "    return gh1, gh2, go1, go2"
   ]
  },
  {
   "cell_type": "code",
   "execution_count": 7,
   "metadata": {},
   "outputs": [
    {
     "name": "stdout",
     "output_type": "stream",
     "text": [
      "gh1 =  0.593269992107\n",
      "gh2 =  0.59688437826\n",
      "go1 =  0.751365069552\n",
      "go2 =  0.772928465321\n"
     ]
    }
   ],
   "source": [
    "#Verificar:\n",
    "gh1, gh2, go1, go2 = propagacao(X, w, b)\n",
    "print ('gh1 = ', gh1)\n",
    "print ('gh2 = ', gh2)\n",
    "print ('go1 = ', go1)\n",
    "print ('go2 = ', go2)"
   ]
  },
  {
   "cell_type": "markdown",
   "metadata": {},
   "source": [
    "### 3.3 - Erro ####\n",
    "\n",
    "Implementação  `erro()`."
   ]
  },
  {
   "cell_type": "code",
   "execution_count": 8,
   "metadata": {
    "collapsed": true
   },
   "outputs": [],
   "source": [
    "def erro(go1, go2, Y):\n",
    "    \"\"\"\n",
    "    Calcular o erro ao final da propagação\n",
    "    \n",
    "    Parametros:\n",
    "    g01 -- A função de ativação sigmoid do neuronio o1\n",
    "    g02 -- A função de ativação sigmoid do neuronio o2\n",
    "    Y -- resultado esperado\n",
    "    \n",
    "    Returna:\n",
    "    erro -- valor do erro ou valor da função de custo\n",
    "    \"\"\"\n",
    "    \n",
    "    n = Y.shape[0] # número de amostras de saída\n",
    "\n",
    "    Eo1 = ((Y[0] - go1)**2) / float(n)\n",
    "    Eo2 = ((Y[1] - go2)**2) / float(n)\n",
    "    \n",
    "    Etotal = Eo1 + Eo2\n",
    "    \n",
    "    return Etotal"
   ]
  },
  {
   "cell_type": "code",
   "execution_count": 9,
   "metadata": {},
   "outputs": [
    {
     "name": "stdout",
     "output_type": "stream",
     "text": [
      "Etotal =  0.29837110876\n"
     ]
    }
   ],
   "source": [
    "#Verificar:\n",
    "etotal = erro(go1, go2, Y)\n",
    "print ('Etotal = ', etotal)"
   ]
  },
  {
   "cell_type": "markdown",
   "metadata": {},
   "source": [
    "### 3.4 - Retropropagação ####\n",
    "\n",
    "Implementação  `retropropagacao()`."
   ]
  },
  {
   "cell_type": "code",
   "execution_count": 10,
   "metadata": {
    "collapsed": true
   },
   "outputs": [],
   "source": [
    "def retropropagacao(gh1, gh2, go1, go2, etotal, X, Y, w, b):\n",
    "    \"\"\"\n",
    "    Parametros:\n",
    "    gh1    -- função de ativação sigmoid de h1\n",
    "    gh2    -- função de ativação sigmoid de h2\n",
    "    go1    -- função de ativação sigmoid de o1\n",
    "    go2    -- função de ativação sigmoid de o2\n",
    "    etotal -- erro total ao final da propagação\n",
    "    X -- entrada de dados\n",
    "    Y -- resultado esperado\n",
    "    w -- pesos W\n",
    "    b -- bias\n",
    "    \n",
    "    Returna:\n",
    "    derivadas de cada peso\n",
    "    \"\"\"\n",
    "    \n",
    "    dp_o1 = - (Y[0] - go1) * go1 * (1 - go1)                #dp_o1 = -(y1 - go1) * go1(1 - go1)\n",
    "    dp_o2 = - (Y[1] - go2) * go2 * (1 - go2)                #dp_o2 = -(y2 - go2) * go2(1 - go2)\n",
    "    \n",
    "    dp_h1 = (w[4] * dp_o1 + w[6] * dp_o2) * gh1 * (1 - gh1) #dp_h1 = (w5 * dp_o1 + w7 * dp_o2) * gh1(1 - gh1) \n",
    "    dp_h2 = (w[5] * dp_o1 + w[7] * dp_o2) * gh2 * (1 - gh2) #dp_h2 = (w6 * dp_o1 + w8 * dp_o2) * gh2(1 - gh2) \n",
    "    \n",
    "    db = np.zeros((len(b)))\n",
    "    dw = np.zeros((len(w)))\n",
    "    \n",
    "    dw[0] = dp_h1 * X[0]     # dw1 = dp_h1 * x1\n",
    "    dw[1] = dp_h1 * X[1]     # dw2 = dp_h1 * x2\n",
    "    dw[2] = dp_h2 * X[0]     # dw3 = dp_h2 * x1\n",
    "    dw[3] = dp_h2 * X[1]     # dw4 = dp_h2 * x2\n",
    "    dw[4] = dp_o1 * gh1      # dw5 = dp_o1 * gh1\n",
    "    dw[5] = dp_o1 * gh2      # dw6 = dp_o1 * gh2\n",
    "    dw[6] = dp_o2 * gh1      # dw7 = dp_o2 * gh1\n",
    "    dw[7] = dp_o2 * gh2      # dw8 = dp_o2 * gh2\n",
    "    \n",
    "    db[0] = dp_h1\n",
    "    db[1] = dp_h2\n",
    "    db[2] = dp_o1\n",
    "    db[3] = dp_o2\n",
    "    \n",
    "    \"\"\"\n",
    "    dEt_dgo1  = - (Y[0] - go1)\n",
    "    dgo1_duo1 = go1 * (1 - go1)\n",
    "    duo1_dw5  = gh1\n",
    "    duo1_dw6  = gh2\n",
    "    \n",
    "    dEt_dgo2  = - (Y[1] - go2)\n",
    "    dgo2_duo2 = go2 * (1 - go2)\n",
    "    duo2_dw7  = gh1\n",
    "    duo2_dw8  = gh2\n",
    "    \n",
    "    dEo1_dgh1 = dEt_dgo1 * dgo1_duo1 * w[4] #w5\n",
    "    dEo2_dgh1 = dEt_dgo2 * dgo2_duo2 * w[6] #w7\n",
    "    dEt_dgh1  = dEo1_dgh1 + dEo2_dgh1\n",
    "    dgh1_duh1 = gh1 * (1 - gh1)\n",
    "    duh1_dw1  = X[0] #x1\n",
    "    duh1_dw2  = X[1] #x2\n",
    "    \n",
    "    dEo1_dgh2 = dEt_dgo1 * dgo1_duo1 * w[5] #w6\n",
    "    dEo2_dgh2 = dEt_dgo2 * dgo2_duo2 * w[7] #w8\n",
    "    dEt_dgh2  = dEo1_dgh2 + dEo2_dgh2\n",
    "    dgh2_duh2 = gh2 * (1 - gh2)\n",
    "    duh2_dw3  = X[0] #x1\n",
    "    duh2_dw4  = X[1] #x2\n",
    "    \n",
    "    db = np.zeros((2))\n",
    "    dw = np.zeros((8))\n",
    "    \n",
    "    dw[0] = dEt_dgh1 * dgh1_duh1 * duh1_dw1  #dw1\n",
    "    dw[1] = dEt_dgh1 * dgh1_duh1 * duh1_dw2  #dw2\n",
    "    dw[2] = dEt_dgh2 * dgh2_duh2 * duh2_dw3  #dw3\n",
    "    dw[3] = dEt_dgh2 * dgh2_duh2 * duh2_dw4  #dw4\n",
    "    dw[4] = dEt_dgo1 * dgo1_duo1 * duo1_dw5  #dw5\n",
    "    dw[5] = dEt_dgo1 * dgo1_duo1 * duo1_dw6  #dw6\n",
    "    dw[6] = dEt_dgo2 * dgo2_duo2 * duo2_dw7  #dw7\n",
    "    dw[7] = dEt_dgo2 * dgo2_duo2 * duo2_dw8  #dw8\n",
    "    \"\"\"\n",
    "    \n",
    "    return db, dw"
   ]
  },
  {
   "cell_type": "code",
   "execution_count": 11,
   "metadata": {},
   "outputs": [
    {
     "name": "stdout",
     "output_type": "stream",
     "text": [
      "db1= 0.00877135468949\n",
      "db2= 0.00995425470522\n",
      "db3= 0.138498561629\n",
      "db4= -0.0380982365166\n",
      "dw1= 0.000438567734474\n",
      "dw2= 0.000877135468949\n",
      "dw3= 0.000497712735261\n",
      "dw4= 0.000995425470522\n",
      "dw5= 0.0821670405642\n",
      "dw6= 0.0826676278475\n",
      "dw7= -0.0226025404775\n",
      "dw8= -0.022740242216\n"
     ]
    }
   ],
   "source": [
    "#Verificar:\n",
    "db, dw = retropropagacao(gh1, gh2, go1, go2, etotal, X, Y, w, b)\n",
    "for i in (range(len(db))):\n",
    "    print ('db%s= %s' % (i+1, db[i]))\n",
    "for i in (range(len(dw))):\n",
    "    print ('dw%s= %s' % (i+1, dw[i]))"
   ]
  },
  {
   "cell_type": "markdown",
   "metadata": {},
   "source": [
    "### 3.5 - Ajustar pesos ####\n",
    "\n",
    "Implementação  `ajustar_pesos()`."
   ]
  },
  {
   "cell_type": "code",
   "execution_count": 12,
   "metadata": {
    "collapsed": true
   },
   "outputs": [],
   "source": [
    "def ajustar_pesos(w, b, dw, db, taxa_aprendizagem = 1.0):\n",
    "    \"\"\"\n",
    "    Parametros:\n",
    "    w -- pesos w1, w2, w3,... w8\n",
    "    b -- bias b1, b2\n",
    "    dw -- derivada dos pesos\n",
    "    db -- derivada dos bias\n",
    "    taxa_aprendizagem -- taxa de apredizagem\n",
    "    \n",
    "    Returna:\n",
    "    pesos ajustados\n",
    "    \"\"\"\n",
    "\n",
    "    for i in (range(len(b))):\n",
    "        b[i] = b[i] - taxa_aprendizagem * db[i]\n",
    "    \n",
    "    for i in (range(len(w))):\n",
    "        w[i] = w[i] - taxa_aprendizagem * dw[i]\n",
    "    \n",
    "    return b, w"
   ]
  },
  {
   "cell_type": "code",
   "execution_count": 13,
   "metadata": {},
   "outputs": [
    {
     "name": "stdout",
     "output_type": "stream",
     "text": [
      "b1= 0.345614322655\n",
      "b2= 0.345022872647\n",
      "b3= 0.530750719186\n",
      "b4= 0.619049118258\n",
      "w1= 0.149780716133\n",
      "w2= 0.199561432266\n",
      "w3= 0.249751143632\n",
      "w4= 0.299502287265\n",
      "w5= 0.358916479718\n",
      "w6= 0.408666186076\n",
      "w7= 0.511301270239\n",
      "w8= 0.561370121108\n"
     ]
    }
   ],
   "source": [
    "#Verificar:\n",
    "b, w = ajustar_pesos(w, b, dw, db, 0.5)\n",
    "for i in (range(len(db))):\n",
    "    print ('b%s= %s' % (i+1, b[i]))\n",
    "for i in (range(len(dw))):\n",
    "    print ('w%s= %s' % (i+1, w[i]))"
   ]
  },
  {
   "cell_type": "markdown",
   "metadata": {},
   "source": [
    "### 3.5 - Contruir a função modelo() ####\n",
    "\n",
    "Criar modelo da rede neural `modelo()`."
   ]
  },
  {
   "cell_type": "code",
   "execution_count": 14,
   "metadata": {
    "collapsed": true
   },
   "outputs": [],
   "source": [
    "def modelo(X, Y, w, b, taxa_aprendizagem = 1.0, qtd_max_epocas = 10000, verbose=False):\n",
    "    \"\"\"\n",
    "    Parametros:\n",
    "    X -- entrada de dados\n",
    "    Y -- resultado esperado\n",
    "    w -- pesos W\n",
    "    b -- bias\n",
    "    taxa_aprendizagem -- taxa de apredizagem\n",
    "    qtd_max_epocas    -- quantidade máxima de epocas\n",
    "    verbose -- se verdadeiro, imprimir o erro a cada 100 epocas\n",
    "    \n",
    "    Returna erro final e pesos atualizados:\n",
    "    erro_epoca -- erro em cada época\n",
    "    i+1        -- quantidade de épocas executadas\n",
    "    b          -- bias finais\n",
    "    w          -- pesos finais\n",
    "    \"\"\"\n",
    "    \n",
    "    erro_epoca = []\n",
    "\n",
    "    for i in range(0, qtd_max_epocas):\n",
    "         \n",
    "        # Propagação \n",
    "        gh1, gh2, go1, go2 = propagacao(X, w, b)\n",
    "        \n",
    "        # Calcular o erro\n",
    "        etotal = erro(go1, go2, Y)\n",
    "        \n",
    "        # Salva valor do erro na epoca\n",
    "        erro_epoca.append(etotal)\n",
    " \n",
    "        # Retropropagação\n",
    "        db, dw = retropropagacao(gh1, gh2, go1, go2, etotal, X, Y, w, b)\n",
    " \n",
    "        # Ajustar pesos\n",
    "        b, w = ajustar_pesos(w, b, dw, db, taxa_aprendizagem)\n",
    "        \n",
    "        # Imprimir a cada 100 epocas\n",
    "        if verbose and i % 100 == 0:\n",
    "            print (\"Erro após Epoca %i: %f\" %(i, etotal))\n",
    "\n",
    "    return erro_epoca, i+1, b, w"
   ]
  },
  {
   "cell_type": "code",
   "execution_count": 15,
   "metadata": {},
   "outputs": [
    {
     "name": "stdout",
     "output_type": "stream",
     "text": [
      "Erro após Epoca 0: 0.298371\n",
      "Erro após Epoca 100: 0.006083\n",
      "Erro após Epoca 200: 0.002476\n",
      "Erro após Epoca 300: 0.001452\n",
      "Erro após Epoca 400: 0.000988\n",
      "Erro após Epoca 500: 0.000728\n",
      "Erro após Epoca 600: 0.000565\n",
      "Erro após Epoca 700: 0.000455\n",
      "Erro após Epoca 800: 0.000376\n",
      "Erro após Epoca 900: 0.000316\n",
      "Erro após Epoca 1000: 0.000271\n",
      "Erro após Epoca 1100: 0.000235\n",
      "Erro após Epoca 1200: 0.000206\n",
      "Erro após Epoca 1300: 0.000182\n",
      "Erro após Epoca 1400: 0.000162\n",
      "Erro após Epoca 1500: 0.000145\n",
      "Erro após Epoca 1600: 0.000131\n",
      "Erro após Epoca 1700: 0.000118\n",
      "Erro após Epoca 1800: 0.000108\n",
      "Erro após Epoca 1900: 0.000099\n",
      "Erro após Epoca 2000: 0.000090\n",
      "Erro após Epoca 2100: 0.000083\n",
      "Erro após Epoca 2200: 0.000077\n",
      "Erro após Epoca 2300: 0.000071\n",
      "Erro após Epoca 2400: 0.000066\n",
      "Erro após Epoca 2500: 0.000061\n",
      "Erro após Epoca 2600: 0.000057\n",
      "Erro após Epoca 2700: 0.000053\n",
      "Erro após Epoca 2800: 0.000050\n",
      "Erro após Epoca 2900: 0.000047\n",
      "Erro após Epoca 3000: 0.000044\n",
      "Erro após Epoca 3100: 0.000041\n",
      "Erro após Epoca 3200: 0.000039\n",
      "Erro após Epoca 3300: 0.000037\n",
      "Erro após Epoca 3400: 0.000035\n",
      "Erro após Epoca 3500: 0.000033\n",
      "Erro após Epoca 3600: 0.000031\n",
      "Erro após Epoca 3700: 0.000029\n",
      "Erro após Epoca 3800: 0.000028\n",
      "Erro após Epoca 3900: 0.000026\n",
      "Erro após Epoca 4000: 0.000025\n",
      "Erro após Epoca 4100: 0.000024\n",
      "Erro após Epoca 4200: 0.000022\n",
      "Erro após Epoca 4300: 0.000021\n",
      "Erro após Epoca 4400: 0.000020\n",
      "Erro após Epoca 4500: 0.000019\n",
      "Erro após Epoca 4600: 0.000019\n",
      "Erro após Epoca 4700: 0.000018\n",
      "Erro após Epoca 4800: 0.000017\n",
      "Erro após Epoca 4900: 0.000016\n",
      "Erro após Epoca 5000: 0.000015\n",
      "Erro após Epoca 5100: 0.000015\n",
      "Erro após Epoca 5200: 0.000014\n",
      "Erro após Epoca 5300: 0.000013\n",
      "Erro após Epoca 5400: 0.000013\n",
      "Erro após Epoca 5500: 0.000012\n",
      "Erro após Epoca 5600: 0.000012\n",
      "Erro após Epoca 5700: 0.000011\n",
      "Erro após Epoca 5800: 0.000011\n",
      "Erro após Epoca 5900: 0.000010\n",
      "Erro após Epoca 6000: 0.000010\n",
      "Erro após Epoca 6100: 0.000010\n",
      "Erro após Epoca 6200: 0.000009\n",
      "Erro após Epoca 6300: 0.000009\n",
      "Erro após Epoca 6400: 0.000009\n",
      "Erro após Epoca 6500: 0.000008\n",
      "Erro após Epoca 6600: 0.000008\n",
      "Erro após Epoca 6700: 0.000008\n",
      "Erro após Epoca 6800: 0.000007\n",
      "Erro após Epoca 6900: 0.000007\n",
      "Erro após Epoca 7000: 0.000007\n",
      "Erro após Epoca 7100: 0.000007\n",
      "Erro após Epoca 7200: 0.000006\n",
      "Erro após Epoca 7300: 0.000006\n",
      "Erro após Epoca 7400: 0.000006\n",
      "Erro após Epoca 7500: 0.000006\n",
      "Erro após Epoca 7600: 0.000005\n",
      "Erro após Epoca 7700: 0.000005\n",
      "Erro após Epoca 7800: 0.000005\n",
      "Erro após Epoca 7900: 0.000005\n",
      "Erro após Epoca 8000: 0.000005\n",
      "Erro após Epoca 8100: 0.000005\n",
      "Erro após Epoca 8200: 0.000004\n",
      "Erro após Epoca 8300: 0.000004\n",
      "Erro após Epoca 8400: 0.000004\n",
      "Erro após Epoca 8500: 0.000004\n",
      "Erro após Epoca 8600: 0.000004\n",
      "Erro após Epoca 8700: 0.000004\n",
      "Erro após Epoca 8800: 0.000004\n",
      "Erro após Epoca 8900: 0.000003\n",
      "Erro após Epoca 9000: 0.000003\n",
      "Erro após Epoca 9100: 0.000003\n",
      "Erro após Epoca 9200: 0.000003\n",
      "Erro após Epoca 9300: 0.000003\n",
      "Erro após Epoca 9400: 0.000003\n",
      "Erro após Epoca 9500: 0.000003\n",
      "Erro após Epoca 9600: 0.000003\n",
      "Erro após Epoca 9700: 0.000003\n",
      "Erro após Epoca 9800: 0.000003\n",
      "Erro após Epoca 9900: 0.000003\n",
      "Epocas =  10000\n",
      "Erro =  2.44833755763e-06\n"
     ]
    }
   ],
   "source": [
    "# Pesos iniciais\n",
    "w = np.array([0.15, #w1\n",
    "              0.20, #w2\n",
    "              0.25, #w3\n",
    "              0.30, #w4\n",
    "              0.40, #w5\n",
    "              0.45, #w6\n",
    "              0.50, #w7\n",
    "              0.55  #w8\n",
    "             ])\n",
    "b = np.array([0.35,\n",
    "              0.35,\n",
    "              0.60,\n",
    "              0.60])\n",
    "#Executar modelo:\n",
    "tx_aprendizagem = 0.5\n",
    "max_epocas = 10000\n",
    "erro_epoca, epoca, b, w = modelo(X, Y, w, b, tx_aprendizagem, max_epocas, True)\n",
    "print ('Epocas = ',epoca)\n",
    "print ('Erro = ', erro_epoca[epoca-1])"
   ]
  },
  {
   "cell_type": "markdown",
   "metadata": {},
   "source": [
    "### 3.6 Predição\n",
    "\n",
    "Usar o modelo treinado para se obter a predição de acordo com a entrada"
   ]
  },
  {
   "cell_type": "code",
   "execution_count": 16,
   "metadata": {
    "collapsed": true
   },
   "outputs": [],
   "source": [
    "def predicao(X, w, b):\n",
    "    \"\"\"\n",
    "    Parametros:\n",
    "    X -- entrada de dados\n",
    "    \n",
    "    Returna predição\n",
    "    \"\"\"\n",
    "    gh1, gh2, go1, go2 = propagacao(X, w, b)\n",
    "    \n",
    "    Y1 = go1\n",
    "    Y2 = go2\n",
    "    \n",
    "    return Y1, Y2"
   ]
  },
  {
   "cell_type": "code",
   "execution_count": 17,
   "metadata": {},
   "outputs": [
    {
     "name": "stdout",
     "output_type": "stream",
     "text": [
      "Y1 =  0.0115875273909\n",
      "Y2 =  0.988458935026\n"
     ]
    }
   ],
   "source": [
    "#Verificar:\n",
    "Y1, Y2 = predicao(X, w, b)\n",
    "print ('Y1 = ', Y1)\n",
    "print ('Y2 = ', Y2)"
   ]
  },
  {
   "cell_type": "code",
   "execution_count": 18,
   "metadata": {},
   "outputs": [
    {
     "data": {
      "image/png": "[encoded data removed]",
      "text/plain": [
       "<matplotlib.figure.Figure at 0x1f1ebb53668>"
      ]
     },
     "metadata": {},
     "output_type": "display_data"
    }
   ],
   "source": [
    "# Visualizar erros por epoca\n",
    "plt.title('Erro por epoca')\n",
    "plt.xlabel('epoca')\n",
    "plt.ylabel('erro')\n",
    "plt.plot(erro_epoca)\n",
    "plt.show()"
   ]
  },
  {
   "cell_type": "code",
   "execution_count": 19,
   "metadata": {},
   "outputs": [
    {
     "data": {
      "text/plain": [
       "array([ 0.1824763 ,  0.2649526 ,  0.28175   ,  0.3635    , -1.45001259,\n",
       "       -1.40331245,  1.52206766,  1.57297035])"
      ]
     },
     "execution_count": 19,
     "metadata": {},
     "output_type": "execute_result"
    }
   ],
   "source": [
    "w"
   ]
  },
  {
   "cell_type": "code",
   "execution_count": 20,
   "metadata": {},
   "outputs": [
    {
     "data": {
      "text/plain": [
       "array([ 0.99952597,  0.98499995, -2.34058822,  2.16628045])"
      ]
     },
     "execution_count": 20,
     "metadata": {},
     "output_type": "execute_result"
    }
   ],
   "source": [
    "b"
   ]
  },
  {
   "cell_type": "code",
   "execution_count": 21,
   "metadata": {},
   "outputs": [
    {
     "name": "stdout",
     "output_type": "stream",
     "text": [
      "Epocas =  1000\n",
      "Erro =  0.00027110842166\n"
     ]
    }
   ],
   "source": [
    "# Pesos iniciais\n",
    "w = np.array([0.15, #w1\n",
    "              0.20, #w2\n",
    "              0.25, #w3\n",
    "              0.30, #w4\n",
    "              0.40, #w5\n",
    "              0.45, #w6\n",
    "              0.50, #w7\n",
    "              0.55  #w8\n",
    "             ])\n",
    "b = np.array([0.35,\n",
    "              0.35,\n",
    "              0.60,\n",
    "              0.60])\n",
    "#Executar modelo:\n",
    "tx_aprendizagem = 0.5\n",
    "max_epocas = 1000\n",
    "erro_epoca, epoca, b, w = modelo(X, Y, w, b, tx_aprendizagem, max_epocas, False)\n",
    "print ('Epocas = ',epoca)\n",
    "print ('Erro = ', erro_epoca[epoca-1])"
   ]
  },
  {
   "cell_type": "code",
   "execution_count": 22,
   "metadata": {},
   "outputs": [
    {
     "data": {
      "image/png": "[encoded data removed]",
      "text/plain": [
       "<matplotlib.figure.Figure at 0x1f1ebb3eef0>"
      ]
     },
     "metadata": {},
     "output_type": "display_data"
    }
   ],
   "source": [
    "# Visualizar erros por epoca\n",
    "plt.title('Erro por epoca')\n",
    "plt.xlabel('epoca')\n",
    "plt.ylabel('erro')\n",
    "plt.plot(erro_epoca)\n",
    "plt.show()"
   ]
  },
  {
   "cell_type": "code",
   "execution_count": null,
   "metadata": {
    "collapsed": true
   },
   "outputs": [],
   "source": []
  },
  {
   "cell_type": "code",
   "execution_count": 23,
   "metadata": {},
   "outputs": [
    {
     "name": "stdout",
     "output_type": "stream",
     "text": [
      "Epocas =  1000000\n",
      "Erro =  9.02522573858e-28\n"
     ]
    }
   ],
   "source": [
    "# Pesos iniciais\n",
    "w = np.array([0.15, #w1\n",
    "              0.20, #w2\n",
    "              0.25, #w3\n",
    "              0.30, #w4\n",
    "              0.40, #w5\n",
    "              0.45, #w6\n",
    "              0.50, #w7\n",
    "              0.55  #w8\n",
    "             ])\n",
    "b = np.array([0.35,\n",
    "              0.35,\n",
    "              0.60,\n",
    "              0.60])\n",
    "#Executar modelo:\n",
    "tx_aprendizagem = 0.5\n",
    "max_epocas = 1000000\n",
    "erro_epoca, epoca, b, w = modelo(X, Y, w, b, tx_aprendizagem, max_epocas, False)\n",
    "print ('Epocas = ',epoca)\n",
    "print ('Erro = ', erro_epoca[epoca-1])"
   ]
  },
  {
   "cell_type": "code",
   "execution_count": 24,
   "metadata": {},
   "outputs": [
    {
     "name": "stdout",
     "output_type": "stream",
     "text": [
      "Y1 =  0.01\n",
      "Y2 =  0.99\n"
     ]
    }
   ],
   "source": [
    "#Verificar:\n",
    "Y1, Y2 = predicao(X, w, b)\n",
    "print ('Y1 = ', Y1)\n",
    "print ('Y2 = ', Y2)"
   ]
  },
  {
   "cell_type": "code",
   "execution_count": null,
   "metadata": {
    "collapsed": true
   },
   "outputs": [],
   "source": []
  }
 ],
 "metadata": {
  "coursera": {
   "course_slug": "neural-networks-deep-learning",
   "graded_item_id": "wRuwL",
   "launcher_item_id": "NI888"
  },
  "kernelspec": {
   "display_name": "Python 3",
   "language": "python",
   "name": "python3"
  },
  "language_info": {
   "codemirror_mode": {
    "name": "ipython",
    "version": 3
   },
   "file_extension": ".py",
   "mimetype": "text/x-python",
   "name": "python",
   "nbconvert_exporter": "python",
   "pygments_lexer": "ipython3",
   "version": "3.5.2"
  },
  "widgets": {
   "state": {},
   "version": "1.1.2"
  }
 },
 "nbformat": 4,
 "nbformat_minor": 2
}
